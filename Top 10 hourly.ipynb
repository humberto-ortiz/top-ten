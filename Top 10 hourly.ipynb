{
 "metadata": {
  "name": ""
 },
 "nbformat": 3,
 "nbformat_minor": 0,
 "worksheets": [
  {
   "cells": [
    {
     "cell_type": "code",
     "collapsed": false,
     "input": [
      "%matplotlib inline\n",
      "\n",
      "import flowtools\n",
      "from collections import defaultdict\n",
      "import glob\n",
      "from datetime import datetime"
     ],
     "language": "python",
     "metadata": {},
     "outputs": [],
     "prompt_number": 23
    },
    {
     "cell_type": "code",
     "collapsed": false,
     "input": [
      "files = glob.glob(\"hpcf-flows/2011-10-26/ft-*\")\n",
      "files[:10]"
     ],
     "language": "python",
     "metadata": {},
     "outputs": [
      {
       "metadata": {},
       "output_type": "pyout",
       "prompt_number": 11,
       "text": [
        "['hpcf-flows/2011-10-26/ft-v05.2011-10-26.001000-0400',\n",
        " 'hpcf-flows/2011-10-26/ft-v05.2011-10-26.002000-0400',\n",
        " 'hpcf-flows/2011-10-26/ft-v05.2011-10-26.003000-0400',\n",
        " 'hpcf-flows/2011-10-26/ft-v05.2011-10-26.004500-0400',\n",
        " 'hpcf-flows/2011-10-26/ft-v05.2011-10-26.005500-0400',\n",
        " 'hpcf-flows/2011-10-26/ft-v05.2011-10-26.010000-0400',\n",
        " 'hpcf-flows/2011-10-26/ft-v05.2011-10-26.011500-0400',\n",
        " 'hpcf-flows/2011-10-26/ft-v05.2011-10-26.012000-0400',\n",
        " 'hpcf-flows/2011-10-26/ft-v05.2011-10-26.013500-0400',\n",
        " 'hpcf-flows/2011-10-26/ft-v05.2011-10-26.015000-0400']"
       ]
      }
     ],
     "prompt_number": 11
    },
    {
     "cell_type": "code",
     "collapsed": false,
     "input": [
      "#flowset = (flowfile for flowfile in files[0])"
     ],
     "language": "python",
     "metadata": {},
     "outputs": [],
     "prompt_number": 19
    },
    {
     "cell_type": "code",
     "collapsed": false,
     "input": [
      "total = defaultdict(int)\n",
      "\n",
      "hourly = []\n",
      "for i in range(24):\n",
      "    hourly.append(defaultdict(int))\n",
      "\n",
      "count = 0\n",
      "for flowfile in files:\n",
      "    for flow in flowtools.FlowSet(flowfile):\n",
      "        srcIP = flow.srcaddr\n",
      "        dstIP = flow.dstaddr\n",
      "        timestamp = datetime.fromtimestamp(flow.unix_secs)\n",
      "        octets = flow.dOctets\n",
      "        hourly [timestamp.hour][(srcIP, dstIP)] += octets\n",
      "        total[(srcIP, dstIP)] += octets\n",
      "        #count += 1\n",
      "        #if count > 1000:\n",
      "        #    break"
     ],
     "language": "python",
     "metadata": {},
     "outputs": [],
     "prompt_number": 47
    },
    {
     "cell_type": "code",
     "collapsed": false,
     "input": [
      "toplot = []\n",
      "\n",
      "pairs = [(bytes, pair) for (pair, bytes) in total.items()]\n",
      "\n",
      "pairs.sort(reverse=True)\n",
      "\n",
      "for bytes, pair in pairs[:10]:\n",
      "    print pair,\n",
      "    for i in range(len(hourly)):\n",
      "        print hourly[i][pair], \n",
      "    print"
     ],
     "language": "python",
     "metadata": {},
     "outputs": [
      {
       "output_type": "stream",
       "stream": "stdout",
       "text": [
        "('136.145.84.97', '194.28.158.170') 423787734 6493152 418419787 9851796 445833831 461697507 7456484 7583268 4471400 4081992 436803610 6499944 7629680 409722941 9935564 2948860 410933260 6203360 421222654 5829800 422863383 420695397 9495216 420029167\n",
        "('128.211.158.124', '136.145.85.200') 0 177779272 0 166188224 0 164058140 0 92 0 0 112 10531012 0 35976576 184076944 232289936 0 239701780 149330948 0 242298464 0 53505112 149603596\n",
        "('136.145.249.31', '24.55.185.128') 0 0 0 0 0 0 0 156 104 0 660810702 579267000 0 0 0 0 0 0 0 0 0 0 506272298 0\n",
        "('136.145.249.136', '98.242.60.175') 0 0 0 526460611 987318608 0 0 0 0 0 0 0 0 0 0 0 0 0 0 0 0 0 0 0\n",
        "('192.65.176.42', '128.32.18.152') 224016 221192 202712 0 201260 209596 0 0 208984 0 0 195544 208788 289327908 217560 0 0 204604 476145896 390786292 2182532 0 219076 0\n",
        "('136.145.249.180', '24.82.183.208') 0 0 0 0 0 0 0 0 0 0 1701 2989 768022355 379691317 0 0 0 0 0 0 0 0 0 0\n",
        "('128.211.142.100', '136.145.164.182') 0 0 0 0 0 0 0 0 0 0 0 0 0 0 0 0 0 0 7731 235989749 0 0 309238432 569586902\n",
        "('136.145.249.136', '207.172.115.244') 0 0 0 523268275 559151982 0 0 0 0 0 0 0 0 0 0 0 0 0 0 0 0 0 0 0\n",
        "('136.145.249.136', '71.196.55.111') 0 0 0 1043721361 0 0 0 0 0 0 0 0 0 0 0 0 0 0 0 0 0 0 0 0\n",
        "('136.145.85.200', '68.188.8.250') 51405772 61296438 0 58570765 55634027 0 15830998 72335651 0 60636096 35852711 66681440 45235322 50391361 39927926 61034424 2594248 0 35734841 28663605 69153310 48502290 19575705 134364727\n"
       ]
      }
     ],
     "prompt_number": 48
    },
    {
     "cell_type": "code",
     "collapsed": false,
     "input": [],
     "language": "python",
     "metadata": {},
     "outputs": []
    }
   ],
   "metadata": {}
  }
 ]
}